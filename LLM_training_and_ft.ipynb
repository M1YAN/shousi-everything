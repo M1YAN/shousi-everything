{
 "cells": [
  {
   "cell_type": "markdown",
   "id": "de27713e",
   "metadata": {},
   "source": [
    "## 1. KV cache 推理优化\n",
    "- 没有 KV cache：每一步生成，都需要重新计算整个生成序列的 KV 矩阵，导致大量重复计算，效率极低\n",
    "- 使用 KV cache：\n",
    "    1. 预填充（Prefill）：处理整个输入的 prompt，计算所有 token 的 K 和 V 的矩阵，将其缓存起来\n",
    "    2. 解码（Decoding）：对于每个新生成的 token，只需要计算它自己的 K 和 V 向量\n",
    "    3. 然后与缓存的矩阵拼接起来，形成完整 KV 矩阵\n",
    "    4. 模型计算量与新生成 token 数量（通常是 1）有关，与序列总长度无关"
   ]
  },
  {
   "cell_type": "code",
   "execution_count": null,
   "id": "24ec2145",
   "metadata": {},
   "outputs": [
    {
     "name": "stderr",
     "output_type": "stream",
     "text": [
      "/Users/miyan/miniconda3/envs/torch/lib/python3.13/site-packages/torch/_subclasses/functional_tensor.py:279: UserWarning: Failed to initialize NumPy: No module named 'numpy' (Triggered internally at /Users/runner/work/pytorch/pytorch/pytorch/torch/csrc/utils/tensor_numpy.cpp:84.)\n",
      "  cpu = _conversion_method_template(device=torch.device(\"cpu\"))\n"
     ]
    }
   ],
   "source": [
    "# KV cache inference optimization\n",
    "'''\n",
    "KV cache steps:\n",
    "1. Pre-fill: compute K, V for all tokens in the input sequence and store them.\n",
    "2. Decoding: for each new token, compute its Q, and use the cached K, V to compute attention.\n",
    "'''\n",
    "\n",
    "import torch\n",
    "import torch.nn as nn\n",
    "import torch.nn.functional as F\n",
    "import math\n",
    "from typing import Optional, Tuple\n",
    "\n",
    "class MultiHeadAttentionWithCache(nn.Module):\n",
    "    def __init__(self, d_model, num_heads):\n",
    "        super().__init__()\n",
    "        assert d_model % num_heads == 0\n",
    "        self.d_model = d_model\n",
    "        self.num_heads = num_heads\n",
    "        self.d_k = d_model / num_heads\n",
    "        self.W_Q = nn.Linear(d_model, d_model)\n",
    "        self.W_K = nn.Linear(d_model, d_model)\n",
    "        self.W_V = nn.Linear(d_model, d_model)\n",
    "        self.W_O = nn.Linear(d_model, d_model)\n",
    "\n",
    "    def forward(self, x, mask=None, past_key_value: Optional[Tuple[torch.Tensor, torch.Tensor]]=None): # past_key_value: previous kv cache\n",
    "        '''\n",
    "        Args:\n",
    "            x (torch.Tensor): (batch, seq_len, d_model)\n",
    "            - prefill: seq_len > 1\n",
    "            - decoding: seq_len == 1\n",
    "            mask: (d_model, d_model)\n",
    "            past_key_value: K_cache, V_cache\n",
    "\n",
    "        Returns:\n",
    "            tuple: (output, present_key_value)\n",
    "        '''\n",
    "        batch_size, seq_len, _ = x.size()\n",
    "\n",
    "        # 1. Linear Projection Q, K, V and reshape\n",
    "        Q = self.W_Q(Q).view(batch_size, seq_len, self.num_heads, self.d_k).transpose(1, 2)\n",
    "        K = self.W_K(K).view(batch_size, seq_len, self.num_heads, self.d_k).transpose(1, 2)\n",
    "        V = self.W_V(V).view(batch_size, seq_len, self.num_heads, self.d_k).transpose(1, 2)\n",
    "\n",
    "        # 2. KV cache\n",
    "        if past_key_value is not None:\n",
    "            past_key, past_value = past_key_value\n",
    "\n",
    "            # K shape: (batch, num_heads, past_seq_len + seq_len, d_k) 在第二维拼接\n",
    "            K = torch.cat([past_key, K], dim = 2)\n",
    "            V = torch.cat([past_value, V], dim = 2)\n",
    "\n",
    "        present_key_value = (K, V)\n",
    "\n",
    "        # 3. calculate attn score\n",
    "        scores = torch.matmul(Q, K.transpose(-1, -2)) / math.sqrt(self.d_k)\n",
    "        if mask is not None:\n",
    "            scores = scores.masked_fill(mask == 0, float('-inf'))\n",
    "        attn_weight = F.softmax(scores)\n",
    "\n",
    "        output = torch.matmul(attn_weight, V)\n",
    "\n",
    "        # calculate output\n",
    "        output = output.transpose(1, 2).contiguous.view(batch_size, seq_len, self.d_model)\n",
    "        output = self.W_O(output)\n",
    "\n",
    "        return output, present_key_value"
   ]
  },
  {
   "cell_type": "code",
   "execution_count": null,
   "id": "c3effc0d",
   "metadata": {},
   "outputs": [],
   "source": []
  }
 ],
 "metadata": {
  "kernelspec": {
   "display_name": "torch",
   "language": "python",
   "name": "python3"
  },
  "language_info": {
   "codemirror_mode": {
    "name": "ipython",
    "version": 3
   },
   "file_extension": ".py",
   "mimetype": "text/x-python",
   "name": "python",
   "nbconvert_exporter": "python",
   "pygments_lexer": "ipython3",
   "version": "3.13.0"
  }
 },
 "nbformat": 4,
 "nbformat_minor": 5
}
